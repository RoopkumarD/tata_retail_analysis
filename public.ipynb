{
 "cells": [
  {
   "cell_type": "code",
   "execution_count": 6,
   "id": "13c5a538-7406-4fd3-85f7-15f9ecfb4004",
   "metadata": {},
   "outputs": [
    {
     "data": {
      "text/html": [
       "\n",
       "<style>\n",
       "    .jp-Notebook .jp-Cell {\n",
       "        margin-bottom: 16px !important;\n",
       "    }\n",
       "</style>\n"
      ],
      "text/plain": [
       "<IPython.core.display.HTML object>"
      ]
     },
     "metadata": {},
     "output_type": "display_data"
    }
   ],
   "source": [
    "import numpy as np\n",
    "import pandas as pd\n",
    "import matplotlib.pyplot as plt\n",
    "from IPython.display import display, HTML\n",
    "\n",
    "css = \"\"\"\n",
    "<style>\n",
    "    .jp-Notebook .jp-Cell {\n",
    "        margin-bottom: 16px !important;\n",
    "    }\n",
    "</style>\n",
    "\"\"\"\n",
    "\n",
    "display(HTML(css))"
   ]
  },
  {
   "cell_type": "markdown",
   "id": "2536dc03-b0ef-4d3a-9fd6-da3b1081e996",
   "metadata": {},
   "source": [
    "# Introduction"
   ]
  },
  {
   "cell_type": "markdown",
   "id": "c43a28e6-f9e9-4002-a795-82a20e300e0b",
   "metadata": {},
   "source": [
    "Will study online retail store dataset. First let's understand the data itself. Do note that, i didn't find those information as it is and most of them i learned as i fuck around and found out about it. Here i tried to compile everything in logical order but this was not the first attempt in understanding the data."
   ]
  },
  {
   "cell_type": "markdown",
   "id": "5c20ed06-20de-47e4-abcd-da7361df2d10",
   "metadata": {},
   "source": [
    "## EDA"
   ]
  },
  {
   "cell_type": "code",
   "execution_count": 118,
   "id": "075dce0c-16a5-4c75-9b7f-bd93229ad0df",
   "metadata": {},
   "outputs": [
    {
     "name": "stdout",
     "output_type": "stream",
     "text": [
      "<class 'pandas.core.frame.DataFrame'>\n",
      "RangeIndex: 541909 entries, 0 to 541908\n",
      "Data columns (total 8 columns):\n",
      " #   Column       Non-Null Count   Dtype         \n",
      "---  ------       --------------   -----         \n",
      " 0   InvoiceNo    541909 non-null  object        \n",
      " 1   StockCode    541909 non-null  object        \n",
      " 2   Description  540455 non-null  object        \n",
      " 3   Quantity     541909 non-null  int64         \n",
      " 4   InvoiceDate  541909 non-null  datetime64[ns]\n",
      " 5   UnitPrice    541909 non-null  float64       \n",
      " 6   CustomerID   406829 non-null  float64       \n",
      " 7   Country      541909 non-null  object        \n",
      "dtypes: datetime64[ns](1), float64(2), int64(1), object(4)\n",
      "memory usage: 33.1+ MB\n"
     ]
    }
   ],
   "source": [
    "df = pd.read_excel(\"Online Retail.xlsx\")\n",
    "df.info()"
   ]
  },
  {
   "cell_type": "markdown",
   "id": "44d07bb5-4a6a-48c0-92eb-16824788e0c4",
   "metadata": {},
   "source": [
    "Looking at above data, I can see that i can analyze product, country and customer data. Rest of them are supplementary of it. Also looking at StockCode and Description, i feel there should be one to one correspondence as both represent single product under the hood.\n",
    "\n",
    "Let's look at what kind of transaction we have in our dataset"
   ]
  },
  {
   "cell_type": "markdown",
   "id": "09886239-5f5a-4cc6-af22-cbc5492da3a0",
   "metadata": {},
   "source": [
    "#### Quantity vs UnitPrice"
   ]
  },
  {
   "cell_type": "code",
   "execution_count": 11,
   "id": "b4a93d96-5d5b-4507-a7e7-4852d50cc35c",
   "metadata": {},
   "outputs": [
    {
     "data": {
      "text/html": [
       "<div>\n",
       "<style scoped>\n",
       "    .dataframe tbody tr th:only-of-type {\n",
       "        vertical-align: middle;\n",
       "    }\n",
       "\n",
       "    .dataframe tbody tr th {\n",
       "        vertical-align: top;\n",
       "    }\n",
       "\n",
       "    .dataframe thead th {\n",
       "        text-align: right;\n",
       "    }\n",
       "</style>\n",
       "<table border=\"1\" class=\"dataframe\">\n",
       "  <thead>\n",
       "    <tr style=\"text-align: right;\">\n",
       "      <th></th>\n",
       "      <th>Quantity</th>\n",
       "      <th>UnitPrice</th>\n",
       "    </tr>\n",
       "  </thead>\n",
       "  <tbody>\n",
       "    <tr>\n",
       "      <th>count</th>\n",
       "      <td>541909.000000</td>\n",
       "      <td>541909.000000</td>\n",
       "    </tr>\n",
       "    <tr>\n",
       "      <th>mean</th>\n",
       "      <td>9.552250</td>\n",
       "      <td>4.611114</td>\n",
       "    </tr>\n",
       "    <tr>\n",
       "      <th>std</th>\n",
       "      <td>218.081158</td>\n",
       "      <td>96.759853</td>\n",
       "    </tr>\n",
       "    <tr>\n",
       "      <th>min</th>\n",
       "      <td>-80995.000000</td>\n",
       "      <td>-11062.060000</td>\n",
       "    </tr>\n",
       "    <tr>\n",
       "      <th>25%</th>\n",
       "      <td>1.000000</td>\n",
       "      <td>1.250000</td>\n",
       "    </tr>\n",
       "    <tr>\n",
       "      <th>50%</th>\n",
       "      <td>3.000000</td>\n",
       "      <td>2.080000</td>\n",
       "    </tr>\n",
       "    <tr>\n",
       "      <th>75%</th>\n",
       "      <td>10.000000</td>\n",
       "      <td>4.130000</td>\n",
       "    </tr>\n",
       "    <tr>\n",
       "      <th>max</th>\n",
       "      <td>80995.000000</td>\n",
       "      <td>38970.000000</td>\n",
       "    </tr>\n",
       "  </tbody>\n",
       "</table>\n",
       "</div>"
      ],
      "text/plain": [
       "            Quantity      UnitPrice\n",
       "count  541909.000000  541909.000000\n",
       "mean        9.552250       4.611114\n",
       "std       218.081158      96.759853\n",
       "min    -80995.000000  -11062.060000\n",
       "25%         1.000000       1.250000\n",
       "50%         3.000000       2.080000\n",
       "75%        10.000000       4.130000\n",
       "max     80995.000000   38970.000000"
      ]
     },
     "execution_count": 11,
     "metadata": {},
     "output_type": "execute_result"
    }
   ],
   "source": [
    "df[[\"Quantity\", \"UnitPrice\"]].describe()"
   ]
  },
  {
   "cell_type": "markdown",
   "id": "655009c0-b9e2-4961-8474-9a8f2aeb0bb9",
   "metadata": {},
   "source": [
    "Looking at above numbers, both quantity and unit price go below zero and there are extreme number in both sides. Now with this there are 9 segments of transactions. Made with Quantity > 0 or = 0 or < 0 matched with UnitPrice > 0 or = 0 or < 0.\n",
    "\n",
    "Let's look at these one by one."
   ]
  },
  {
   "cell_type": "code",
   "execution_count": 17,
   "id": "7f4325d1-ffd0-4ea7-9b22-f1072e1de133",
   "metadata": {},
   "outputs": [
    {
     "data": {
      "text/html": [
       "<div>\n",
       "<style scoped>\n",
       "    .dataframe tbody tr th:only-of-type {\n",
       "        vertical-align: middle;\n",
       "    }\n",
       "\n",
       "    .dataframe tbody tr th {\n",
       "        vertical-align: top;\n",
       "    }\n",
       "\n",
       "    .dataframe thead th {\n",
       "        text-align: right;\n",
       "    }\n",
       "</style>\n",
       "<table border=\"1\" class=\"dataframe\">\n",
       "  <thead>\n",
       "    <tr style=\"text-align: right;\">\n",
       "      <th></th>\n",
       "      <th>InvoiceNo</th>\n",
       "      <th>StockCode</th>\n",
       "      <th>Description</th>\n",
       "      <th>Quantity</th>\n",
       "      <th>InvoiceDate</th>\n",
       "      <th>UnitPrice</th>\n",
       "      <th>CustomerID</th>\n",
       "      <th>Country</th>\n",
       "    </tr>\n",
       "  </thead>\n",
       "  <tbody>\n",
       "  </tbody>\n",
       "</table>\n",
       "</div>"
      ],
      "text/plain": [
       "Empty DataFrame\n",
       "Columns: [InvoiceNo, StockCode, Description, Quantity, InvoiceDate, UnitPrice, CustomerID, Country]\n",
       "Index: []"
      ]
     },
     "execution_count": 17,
     "metadata": {},
     "output_type": "execute_result"
    }
   ],
   "source": [
    "# there are no entries in this segment\n",
    "# so quantity has to be something for to be recorded in database\n",
    "\n",
    "df[(df[\"Quantity\"] == 0)]"
   ]
  },
  {
   "cell_type": "code",
   "execution_count": 42,
   "id": "1f16fb92-f114-4301-8d93-4e0a3a55fe7d",
   "metadata": {},
   "outputs": [
    {
     "data": {
      "text/html": [
       "<div>\n",
       "<style scoped>\n",
       "    .dataframe tbody tr th:only-of-type {\n",
       "        vertical-align: middle;\n",
       "    }\n",
       "\n",
       "    .dataframe tbody tr th {\n",
       "        vertical-align: top;\n",
       "    }\n",
       "\n",
       "    .dataframe thead th {\n",
       "        text-align: right;\n",
       "    }\n",
       "</style>\n",
       "<table border=\"1\" class=\"dataframe\">\n",
       "  <thead>\n",
       "    <tr style=\"text-align: right;\">\n",
       "      <th></th>\n",
       "      <th>InvoiceNo</th>\n",
       "      <th>StockCode</th>\n",
       "      <th>Description</th>\n",
       "      <th>Quantity</th>\n",
       "      <th>InvoiceDate</th>\n",
       "      <th>UnitPrice</th>\n",
       "      <th>CustomerID</th>\n",
       "      <th>Country</th>\n",
       "    </tr>\n",
       "  </thead>\n",
       "  <tbody>\n",
       "    <tr>\n",
       "      <th>622</th>\n",
       "      <td>536414</td>\n",
       "      <td>22139</td>\n",
       "      <td>NaN</td>\n",
       "      <td>56</td>\n",
       "      <td>2010-12-01 11:52:00</td>\n",
       "      <td>0.0</td>\n",
       "      <td>NaN</td>\n",
       "      <td>United Kingdom</td>\n",
       "    </tr>\n",
       "    <tr>\n",
       "      <th>1970</th>\n",
       "      <td>536545</td>\n",
       "      <td>21134</td>\n",
       "      <td>NaN</td>\n",
       "      <td>1</td>\n",
       "      <td>2010-12-01 14:32:00</td>\n",
       "      <td>0.0</td>\n",
       "      <td>NaN</td>\n",
       "      <td>United Kingdom</td>\n",
       "    </tr>\n",
       "    <tr>\n",
       "      <th>1971</th>\n",
       "      <td>536546</td>\n",
       "      <td>22145</td>\n",
       "      <td>NaN</td>\n",
       "      <td>1</td>\n",
       "      <td>2010-12-01 14:33:00</td>\n",
       "      <td>0.0</td>\n",
       "      <td>NaN</td>\n",
       "      <td>United Kingdom</td>\n",
       "    </tr>\n",
       "    <tr>\n",
       "      <th>1972</th>\n",
       "      <td>536547</td>\n",
       "      <td>37509</td>\n",
       "      <td>NaN</td>\n",
       "      <td>1</td>\n",
       "      <td>2010-12-01 14:33:00</td>\n",
       "      <td>0.0</td>\n",
       "      <td>NaN</td>\n",
       "      <td>United Kingdom</td>\n",
       "    </tr>\n",
       "    <tr>\n",
       "      <th>1987</th>\n",
       "      <td>536549</td>\n",
       "      <td>85226A</td>\n",
       "      <td>NaN</td>\n",
       "      <td>1</td>\n",
       "      <td>2010-12-01 14:34:00</td>\n",
       "      <td>0.0</td>\n",
       "      <td>NaN</td>\n",
       "      <td>United Kingdom</td>\n",
       "    </tr>\n",
       "  </tbody>\n",
       "</table>\n",
       "</div>"
      ],
      "text/plain": [
       "     InvoiceNo StockCode Description  Quantity         InvoiceDate  UnitPrice  \\\n",
       "622     536414     22139         NaN        56 2010-12-01 11:52:00        0.0   \n",
       "1970    536545     21134         NaN         1 2010-12-01 14:32:00        0.0   \n",
       "1971    536546     22145         NaN         1 2010-12-01 14:33:00        0.0   \n",
       "1972    536547     37509         NaN         1 2010-12-01 14:33:00        0.0   \n",
       "1987    536549    85226A         NaN         1 2010-12-01 14:34:00        0.0   \n",
       "\n",
       "      CustomerID         Country  \n",
       "622          NaN  United Kingdom  \n",
       "1970         NaN  United Kingdom  \n",
       "1971         NaN  United Kingdom  \n",
       "1972         NaN  United Kingdom  \n",
       "1987         NaN  United Kingdom  "
      ]
     },
     "execution_count": 42,
     "metadata": {},
     "output_type": "execute_result"
    }
   ],
   "source": [
    "# from looks of it, these are inventory management and since UnitPrice == 0, it won't affect our\n",
    "# revenue calculations. The reason i was able to say inventory management is because looking\n",
    "# at descriptions, there are entries like damaged, re-adjustment, faulty, etc. Went to chatgpt\n",
    "# with those all descriptions and confirmed these are non sales transactions\n",
    "\n",
    "df[(df[\"UnitPrice\"] == 0)].head()"
   ]
  },
  {
   "cell_type": "code",
   "execution_count": 25,
   "id": "9d9b6889-f919-4c7b-b4f2-9177e473f62d",
   "metadata": {},
   "outputs": [
    {
     "data": {
      "text/html": [
       "<div>\n",
       "<style scoped>\n",
       "    .dataframe tbody tr th:only-of-type {\n",
       "        vertical-align: middle;\n",
       "    }\n",
       "\n",
       "    .dataframe tbody tr th {\n",
       "        vertical-align: top;\n",
       "    }\n",
       "\n",
       "    .dataframe thead th {\n",
       "        text-align: right;\n",
       "    }\n",
       "</style>\n",
       "<table border=\"1\" class=\"dataframe\">\n",
       "  <thead>\n",
       "    <tr style=\"text-align: right;\">\n",
       "      <th></th>\n",
       "      <th>InvoiceNo</th>\n",
       "      <th>StockCode</th>\n",
       "      <th>Description</th>\n",
       "      <th>Quantity</th>\n",
       "      <th>InvoiceDate</th>\n",
       "      <th>UnitPrice</th>\n",
       "      <th>CustomerID</th>\n",
       "      <th>Country</th>\n",
       "    </tr>\n",
       "  </thead>\n",
       "  <tbody>\n",
       "    <tr>\n",
       "      <th>0</th>\n",
       "      <td>536365</td>\n",
       "      <td>85123A</td>\n",
       "      <td>WHITE HANGING HEART T-LIGHT HOLDER</td>\n",
       "      <td>6</td>\n",
       "      <td>2010-12-01 08:26:00</td>\n",
       "      <td>2.55</td>\n",
       "      <td>17850.0</td>\n",
       "      <td>United Kingdom</td>\n",
       "    </tr>\n",
       "    <tr>\n",
       "      <th>1</th>\n",
       "      <td>536365</td>\n",
       "      <td>71053</td>\n",
       "      <td>WHITE METAL LANTERN</td>\n",
       "      <td>6</td>\n",
       "      <td>2010-12-01 08:26:00</td>\n",
       "      <td>3.39</td>\n",
       "      <td>17850.0</td>\n",
       "      <td>United Kingdom</td>\n",
       "    </tr>\n",
       "    <tr>\n",
       "      <th>2</th>\n",
       "      <td>536365</td>\n",
       "      <td>84406B</td>\n",
       "      <td>CREAM CUPID HEARTS COAT HANGER</td>\n",
       "      <td>8</td>\n",
       "      <td>2010-12-01 08:26:00</td>\n",
       "      <td>2.75</td>\n",
       "      <td>17850.0</td>\n",
       "      <td>United Kingdom</td>\n",
       "    </tr>\n",
       "    <tr>\n",
       "      <th>3</th>\n",
       "      <td>536365</td>\n",
       "      <td>84029G</td>\n",
       "      <td>KNITTED UNION FLAG HOT WATER BOTTLE</td>\n",
       "      <td>6</td>\n",
       "      <td>2010-12-01 08:26:00</td>\n",
       "      <td>3.39</td>\n",
       "      <td>17850.0</td>\n",
       "      <td>United Kingdom</td>\n",
       "    </tr>\n",
       "    <tr>\n",
       "      <th>4</th>\n",
       "      <td>536365</td>\n",
       "      <td>84029E</td>\n",
       "      <td>RED WOOLLY HOTTIE WHITE HEART.</td>\n",
       "      <td>6</td>\n",
       "      <td>2010-12-01 08:26:00</td>\n",
       "      <td>3.39</td>\n",
       "      <td>17850.0</td>\n",
       "      <td>United Kingdom</td>\n",
       "    </tr>\n",
       "  </tbody>\n",
       "</table>\n",
       "</div>"
      ],
      "text/plain": [
       "  InvoiceNo StockCode                          Description  Quantity  \\\n",
       "0    536365    85123A   WHITE HANGING HEART T-LIGHT HOLDER         6   \n",
       "1    536365     71053                  WHITE METAL LANTERN         6   \n",
       "2    536365    84406B       CREAM CUPID HEARTS COAT HANGER         8   \n",
       "3    536365    84029G  KNITTED UNION FLAG HOT WATER BOTTLE         6   \n",
       "4    536365    84029E       RED WOOLLY HOTTIE WHITE HEART.         6   \n",
       "\n",
       "          InvoiceDate  UnitPrice  CustomerID         Country  \n",
       "0 2010-12-01 08:26:00       2.55     17850.0  United Kingdom  \n",
       "1 2010-12-01 08:26:00       3.39     17850.0  United Kingdom  \n",
       "2 2010-12-01 08:26:00       2.75     17850.0  United Kingdom  \n",
       "3 2010-12-01 08:26:00       3.39     17850.0  United Kingdom  \n",
       "4 2010-12-01 08:26:00       3.39     17850.0  United Kingdom  "
      ]
     },
     "execution_count": 25,
     "metadata": {},
     "output_type": "execute_result"
    }
   ],
   "source": [
    "# these are real sales which we are going to analyze later\n",
    "\n",
    "df[(df[\"Quantity\"] > 0) & (df[\"UnitPrice\"] > 0)].head()"
   ]
  },
  {
   "cell_type": "code",
   "execution_count": 27,
   "id": "d1af605f-eabe-40c3-b4fd-622fdf540c41",
   "metadata": {},
   "outputs": [
    {
     "data": {
      "text/html": [
       "<div>\n",
       "<style scoped>\n",
       "    .dataframe tbody tr th:only-of-type {\n",
       "        vertical-align: middle;\n",
       "    }\n",
       "\n",
       "    .dataframe tbody tr th {\n",
       "        vertical-align: top;\n",
       "    }\n",
       "\n",
       "    .dataframe thead th {\n",
       "        text-align: right;\n",
       "    }\n",
       "</style>\n",
       "<table border=\"1\" class=\"dataframe\">\n",
       "  <thead>\n",
       "    <tr style=\"text-align: right;\">\n",
       "      <th></th>\n",
       "      <th>InvoiceNo</th>\n",
       "      <th>StockCode</th>\n",
       "      <th>Description</th>\n",
       "      <th>Quantity</th>\n",
       "      <th>InvoiceDate</th>\n",
       "      <th>UnitPrice</th>\n",
       "      <th>CustomerID</th>\n",
       "      <th>Country</th>\n",
       "    </tr>\n",
       "  </thead>\n",
       "  <tbody>\n",
       "    <tr>\n",
       "      <th>299983</th>\n",
       "      <td>A563186</td>\n",
       "      <td>B</td>\n",
       "      <td>Adjust bad debt</td>\n",
       "      <td>1</td>\n",
       "      <td>2011-08-12 14:51:00</td>\n",
       "      <td>-11062.06</td>\n",
       "      <td>NaN</td>\n",
       "      <td>United Kingdom</td>\n",
       "    </tr>\n",
       "    <tr>\n",
       "      <th>299984</th>\n",
       "      <td>A563187</td>\n",
       "      <td>B</td>\n",
       "      <td>Adjust bad debt</td>\n",
       "      <td>1</td>\n",
       "      <td>2011-08-12 14:52:00</td>\n",
       "      <td>-11062.06</td>\n",
       "      <td>NaN</td>\n",
       "      <td>United Kingdom</td>\n",
       "    </tr>\n",
       "  </tbody>\n",
       "</table>\n",
       "</div>"
      ],
      "text/plain": [
       "       InvoiceNo StockCode      Description  Quantity         InvoiceDate  \\\n",
       "299983   A563186         B  Adjust bad debt         1 2011-08-12 14:51:00   \n",
       "299984   A563187         B  Adjust bad debt         1 2011-08-12 14:52:00   \n",
       "\n",
       "        UnitPrice  CustomerID         Country  \n",
       "299983  -11062.06         NaN  United Kingdom  \n",
       "299984  -11062.06         NaN  United Kingdom  "
      ]
     },
     "execution_count": 27,
     "metadata": {},
     "output_type": "execute_result"
    }
   ],
   "source": [
    "# debt adjustment of business\n",
    "\n",
    "df[(df[\"Quantity\"] > 0) & (df[\"UnitPrice\"] < 0)].head()"
   ]
  },
  {
   "cell_type": "code",
   "execution_count": 33,
   "id": "2c3fab7e-d9fb-48ae-9a05-dfed7552b236",
   "metadata": {},
   "outputs": [
    {
     "data": {
      "text/html": [
       "<div>\n",
       "<style scoped>\n",
       "    .dataframe tbody tr th:only-of-type {\n",
       "        vertical-align: middle;\n",
       "    }\n",
       "\n",
       "    .dataframe tbody tr th {\n",
       "        vertical-align: top;\n",
       "    }\n",
       "\n",
       "    .dataframe thead th {\n",
       "        text-align: right;\n",
       "    }\n",
       "</style>\n",
       "<table border=\"1\" class=\"dataframe\">\n",
       "  <thead>\n",
       "    <tr style=\"text-align: right;\">\n",
       "      <th></th>\n",
       "      <th>InvoiceNo</th>\n",
       "      <th>StockCode</th>\n",
       "      <th>Description</th>\n",
       "      <th>Quantity</th>\n",
       "      <th>InvoiceDate</th>\n",
       "      <th>UnitPrice</th>\n",
       "      <th>CustomerID</th>\n",
       "      <th>Country</th>\n",
       "    </tr>\n",
       "  </thead>\n",
       "  <tbody>\n",
       "    <tr>\n",
       "      <th>141</th>\n",
       "      <td>C536379</td>\n",
       "      <td>D</td>\n",
       "      <td>Discount</td>\n",
       "      <td>-1</td>\n",
       "      <td>2010-12-01 09:41:00</td>\n",
       "      <td>27.50</td>\n",
       "      <td>14527.0</td>\n",
       "      <td>United Kingdom</td>\n",
       "    </tr>\n",
       "    <tr>\n",
       "      <th>154</th>\n",
       "      <td>C536383</td>\n",
       "      <td>35004C</td>\n",
       "      <td>SET OF 3 COLOURED  FLYING DUCKS</td>\n",
       "      <td>-1</td>\n",
       "      <td>2010-12-01 09:49:00</td>\n",
       "      <td>4.65</td>\n",
       "      <td>15311.0</td>\n",
       "      <td>United Kingdom</td>\n",
       "    </tr>\n",
       "    <tr>\n",
       "      <th>235</th>\n",
       "      <td>C536391</td>\n",
       "      <td>22556</td>\n",
       "      <td>PLASTERS IN TIN CIRCUS PARADE</td>\n",
       "      <td>-12</td>\n",
       "      <td>2010-12-01 10:24:00</td>\n",
       "      <td>1.65</td>\n",
       "      <td>17548.0</td>\n",
       "      <td>United Kingdom</td>\n",
       "    </tr>\n",
       "    <tr>\n",
       "      <th>236</th>\n",
       "      <td>C536391</td>\n",
       "      <td>21984</td>\n",
       "      <td>PACK OF 12 PINK PAISLEY TISSUES</td>\n",
       "      <td>-24</td>\n",
       "      <td>2010-12-01 10:24:00</td>\n",
       "      <td>0.29</td>\n",
       "      <td>17548.0</td>\n",
       "      <td>United Kingdom</td>\n",
       "    </tr>\n",
       "    <tr>\n",
       "      <th>237</th>\n",
       "      <td>C536391</td>\n",
       "      <td>21983</td>\n",
       "      <td>PACK OF 12 BLUE PAISLEY TISSUES</td>\n",
       "      <td>-24</td>\n",
       "      <td>2010-12-01 10:24:00</td>\n",
       "      <td>0.29</td>\n",
       "      <td>17548.0</td>\n",
       "      <td>United Kingdom</td>\n",
       "    </tr>\n",
       "  </tbody>\n",
       "</table>\n",
       "</div>"
      ],
      "text/plain": [
       "    InvoiceNo StockCode                       Description  Quantity  \\\n",
       "141   C536379         D                          Discount        -1   \n",
       "154   C536383    35004C   SET OF 3 COLOURED  FLYING DUCKS        -1   \n",
       "235   C536391     22556    PLASTERS IN TIN CIRCUS PARADE        -12   \n",
       "236   C536391     21984  PACK OF 12 PINK PAISLEY TISSUES        -24   \n",
       "237   C536391     21983  PACK OF 12 BLUE PAISLEY TISSUES        -24   \n",
       "\n",
       "            InvoiceDate  UnitPrice  CustomerID         Country  \n",
       "141 2010-12-01 09:41:00      27.50     14527.0  United Kingdom  \n",
       "154 2010-12-01 09:49:00       4.65     15311.0  United Kingdom  \n",
       "235 2010-12-01 10:24:00       1.65     17548.0  United Kingdom  \n",
       "236 2010-12-01 10:24:00       0.29     17548.0  United Kingdom  \n",
       "237 2010-12-01 10:24:00       0.29     17548.0  United Kingdom  "
      ]
     },
     "execution_count": 33,
     "metadata": {},
     "output_type": "execute_result"
    }
   ],
   "source": [
    "# looking at quantity being negative and unitprice > 0. It seems like returned or cancelled section\n",
    "# of dataset. Also looking through internet i found out that invoice number starting with 'C' are credit\n",
    "# note for business to indicate like returns or cancellation. Here i can see discount field.\n",
    "# Let's see if all the invoice number in this section starts with 'C'\n",
    "\n",
    "creditnote_section = df[(df[\"Quantity\"] < 0) & (df[\"UnitPrice\"] > 0)]\n",
    "creditnote_section.head()"
   ]
  },
  {
   "cell_type": "code",
   "execution_count": 36,
   "id": "e2036124-f292-4c8f-82cc-cf69dd05c65f",
   "metadata": {},
   "outputs": [
    {
     "data": {
      "text/plain": [
       "array([ True])"
      ]
     },
     "execution_count": 36,
     "metadata": {},
     "output_type": "execute_result"
    }
   ],
   "source": [
    "# so yeah all the invoice number starts with 'C'\n",
    "\n",
    "creditnote_section[\"InvoiceNo\"].str.startswith('C').unique()"
   ]
  },
  {
   "cell_type": "code",
   "execution_count": 38,
   "id": "d57643a2-22be-4aa0-906c-9bdcc0918142",
   "metadata": {},
   "outputs": [
    {
     "data": {
      "text/html": [
       "<div>\n",
       "<style scoped>\n",
       "    .dataframe tbody tr th:only-of-type {\n",
       "        vertical-align: middle;\n",
       "    }\n",
       "\n",
       "    .dataframe tbody tr th {\n",
       "        vertical-align: top;\n",
       "    }\n",
       "\n",
       "    .dataframe thead th {\n",
       "        text-align: right;\n",
       "    }\n",
       "</style>\n",
       "<table border=\"1\" class=\"dataframe\">\n",
       "  <thead>\n",
       "    <tr style=\"text-align: right;\">\n",
       "      <th></th>\n",
       "      <th>InvoiceNo</th>\n",
       "      <th>StockCode</th>\n",
       "      <th>Description</th>\n",
       "      <th>Quantity</th>\n",
       "      <th>InvoiceDate</th>\n",
       "      <th>UnitPrice</th>\n",
       "      <th>CustomerID</th>\n",
       "      <th>Country</th>\n",
       "    </tr>\n",
       "  </thead>\n",
       "  <tbody>\n",
       "  </tbody>\n",
       "</table>\n",
       "</div>"
      ],
      "text/plain": [
       "Empty DataFrame\n",
       "Columns: [InvoiceNo, StockCode, Description, Quantity, InvoiceDate, UnitPrice, CustomerID, Country]\n",
       "Index: []"
      ]
     },
     "execution_count": 38,
     "metadata": {},
     "output_type": "execute_result"
    }
   ],
   "source": [
    "# there are no entries here, and it makes sense as according to my information there are no\n",
    "# business transactions with both quantity and unit price being -ve.\n",
    "\n",
    "df[(df[\"Quantity\"] < 0) & (df[\"UnitPrice\"] < 0)].head()"
   ]
  },
  {
   "cell_type": "markdown",
   "id": "70040264-92b2-4919-85af-5d30d997f884",
   "metadata": {},
   "source": [
    "#### Business dealing with wholesellers"
   ]
  },
  {
   "cell_type": "markdown",
   "id": "9958196f-1de9-474d-bb04-d17aaed4d773",
   "metadata": {},
   "source": [
    "Looking above, i can easily see that there are wholeseller with retail customers. Looking at distribution of it"
   ]
  },
  {
   "cell_type": "code",
   "execution_count": 55,
   "id": "33f95cb7-ccda-4eae-ba90-60848a1051a2",
   "metadata": {},
   "outputs": [
    {
     "data": {
      "text/plain": [
       "np.float64(8.0)"
      ]
     },
     "execution_count": 55,
     "metadata": {},
     "output_type": "execute_result"
    }
   ],
   "source": [
    "np.percentile(df[df[\"Quantity\"] > 0][\"Quantity\"], 70)  # so 70% of data is of retail and rest of them are wholeseller"
   ]
  },
  {
   "cell_type": "code",
   "execution_count": 64,
   "id": "40c5c000-cd56-421f-b1ec-ebbfd949ecc9",
   "metadata": {},
   "outputs": [
    {
     "data": {
      "text/plain": [
       "Quantity\n",
       "False    531285\n",
       "True      10624\n",
       "Name: count, dtype: int64"
      ]
     },
     "execution_count": 64,
     "metadata": {},
     "output_type": "execute_result"
    }
   ],
   "source": [
    "(df[\"Quantity\"] < 0).value_counts()"
   ]
  },
  {
   "cell_type": "code",
   "execution_count": 65,
   "id": "6c83831f-45e3-4be6-83cf-2af88c3c6fde",
   "metadata": {},
   "outputs": [
    {
     "name": "stdout",
     "output_type": "stream",
     "text": [
      "About these are retail customer 384953\n",
      "About these are wholesellers 156956\n"
     ]
    }
   ],
   "source": [
    "# let's look at number perspective\n",
    "# yeah threshold == 8 seems contrived but who knows maybe you have bought 8 product even if\n",
    "# you are retail customer\n",
    "# don't worry about -ve quantity inclusion in first because as seen above they are about 10K\n",
    "# which is very small compared to 380K\n",
    "\n",
    "print(f\"About these are retail customer {df[df['Quantity'] <= 8].shape[0]}\")\n",
    "print(f\"About these are wholesellers {df[df['Quantity'] > 8].shape[0]}\")"
   ]
  },
  {
   "cell_type": "markdown",
   "id": "1e424dc8-894e-4016-8368-31f82f98fa38",
   "metadata": {},
   "source": [
    "#### StockCode with alphabets only"
   ]
  },
  {
   "cell_type": "code",
   "execution_count": 45,
   "id": "a92e8596-2576-43a6-9406-90016cb467e2",
   "metadata": {},
   "outputs": [
    {
     "data": {
      "text/html": [
       "<div>\n",
       "<style scoped>\n",
       "    .dataframe tbody tr th:only-of-type {\n",
       "        vertical-align: middle;\n",
       "    }\n",
       "\n",
       "    .dataframe tbody tr th {\n",
       "        vertical-align: top;\n",
       "    }\n",
       "\n",
       "    .dataframe thead th {\n",
       "        text-align: right;\n",
       "    }\n",
       "</style>\n",
       "<table border=\"1\" class=\"dataframe\">\n",
       "  <thead>\n",
       "    <tr style=\"text-align: right;\">\n",
       "      <th></th>\n",
       "      <th>InvoiceNo</th>\n",
       "      <th>StockCode</th>\n",
       "      <th>Description</th>\n",
       "      <th>Quantity</th>\n",
       "      <th>InvoiceDate</th>\n",
       "      <th>UnitPrice</th>\n",
       "      <th>CustomerID</th>\n",
       "      <th>Country</th>\n",
       "    </tr>\n",
       "  </thead>\n",
       "  <tbody>\n",
       "    <tr>\n",
       "      <th>45</th>\n",
       "      <td>536370</td>\n",
       "      <td>POST</td>\n",
       "      <td>POSTAGE</td>\n",
       "      <td>3</td>\n",
       "      <td>2010-12-01 08:45:00</td>\n",
       "      <td>18.00</td>\n",
       "      <td>12583.0</td>\n",
       "      <td>France</td>\n",
       "    </tr>\n",
       "    <tr>\n",
       "      <th>141</th>\n",
       "      <td>C536379</td>\n",
       "      <td>D</td>\n",
       "      <td>Discount</td>\n",
       "      <td>-1</td>\n",
       "      <td>2010-12-01 09:41:00</td>\n",
       "      <td>27.50</td>\n",
       "      <td>14527.0</td>\n",
       "      <td>United Kingdom</td>\n",
       "    </tr>\n",
       "    <tr>\n",
       "      <th>386</th>\n",
       "      <td>536403</td>\n",
       "      <td>POST</td>\n",
       "      <td>POSTAGE</td>\n",
       "      <td>1</td>\n",
       "      <td>2010-12-01 11:27:00</td>\n",
       "      <td>15.00</td>\n",
       "      <td>12791.0</td>\n",
       "      <td>Netherlands</td>\n",
       "    </tr>\n",
       "    <tr>\n",
       "      <th>1123</th>\n",
       "      <td>536527</td>\n",
       "      <td>POST</td>\n",
       "      <td>POSTAGE</td>\n",
       "      <td>1</td>\n",
       "      <td>2010-12-01 13:04:00</td>\n",
       "      <td>18.00</td>\n",
       "      <td>12662.0</td>\n",
       "      <td>Germany</td>\n",
       "    </tr>\n",
       "    <tr>\n",
       "      <th>1814</th>\n",
       "      <td>536544</td>\n",
       "      <td>DOT</td>\n",
       "      <td>DOTCOM POSTAGE</td>\n",
       "      <td>1</td>\n",
       "      <td>2010-12-01 14:32:00</td>\n",
       "      <td>569.77</td>\n",
       "      <td>NaN</td>\n",
       "      <td>United Kingdom</td>\n",
       "    </tr>\n",
       "  </tbody>\n",
       "</table>\n",
       "</div>"
      ],
      "text/plain": [
       "     InvoiceNo StockCode     Description  Quantity         InvoiceDate  \\\n",
       "45      536370      POST         POSTAGE         3 2010-12-01 08:45:00   \n",
       "141    C536379         D        Discount        -1 2010-12-01 09:41:00   \n",
       "386     536403      POST         POSTAGE         1 2010-12-01 11:27:00   \n",
       "1123    536527      POST         POSTAGE         1 2010-12-01 13:04:00   \n",
       "1814    536544       DOT  DOTCOM POSTAGE         1 2010-12-01 14:32:00   \n",
       "\n",
       "      UnitPrice  CustomerID         Country  \n",
       "45        18.00     12583.0          France  \n",
       "141       27.50     14527.0  United Kingdom  \n",
       "386       15.00     12791.0     Netherlands  \n",
       "1123      18.00     12662.0         Germany  \n",
       "1814     569.77         NaN  United Kingdom  "
      ]
     },
     "execution_count": 45,
     "metadata": {},
     "output_type": "execute_result"
    }
   ],
   "source": [
    "# i was searching through Credit note transactions and there i saw some stockcode which\n",
    "# only has alphabets as stockcode value. There are three types of Stockcode here, one is\n",
    "# stockcode with only numbers, second one is number + alphabet and lastly only alphabet\n",
    "# The reason i am interested in alphabets stockcode is because eyeballing some of the transactions\n",
    "# these seems like internal business stuff and i don't want to include them in my analysis\n",
    "# for revenue, etc\n",
    "\n",
    "stockcodes = df[\"StockCode\"].apply(str)\n",
    "alphacode = df[~stockcodes.str.contains(r\"\\d\", na=False)]\n",
    "alphacode.head()"
   ]
  },
  {
   "cell_type": "code",
   "execution_count": 48,
   "id": "eba51f59-aa9c-42d3-9a85-81265bdffaa2",
   "metadata": {},
   "outputs": [
    {
     "data": {
      "text/html": [
       "<div>\n",
       "<style scoped>\n",
       "    .dataframe tbody tr th:only-of-type {\n",
       "        vertical-align: middle;\n",
       "    }\n",
       "\n",
       "    .dataframe tbody tr th {\n",
       "        vertical-align: top;\n",
       "    }\n",
       "\n",
       "    .dataframe thead th {\n",
       "        text-align: right;\n",
       "    }\n",
       "</style>\n",
       "<table border=\"1\" class=\"dataframe\">\n",
       "  <thead>\n",
       "    <tr style=\"text-align: right;\">\n",
       "      <th></th>\n",
       "      <th>Quantity</th>\n",
       "      <th>UnitPrice</th>\n",
       "    </tr>\n",
       "  </thead>\n",
       "  <tbody>\n",
       "    <tr>\n",
       "      <th>count</th>\n",
       "      <td>2796.000000</td>\n",
       "      <td>2796.000000</td>\n",
       "    </tr>\n",
       "    <tr>\n",
       "      <th>mean</th>\n",
       "      <td>3.581545</td>\n",
       "      <td>260.852240</td>\n",
       "    </tr>\n",
       "    <tr>\n",
       "      <th>std</th>\n",
       "      <td>67.374006</td>\n",
       "      <td>1321.062127</td>\n",
       "    </tr>\n",
       "    <tr>\n",
       "      <th>min</th>\n",
       "      <td>-1350.000000</td>\n",
       "      <td>-11062.060000</td>\n",
       "    </tr>\n",
       "    <tr>\n",
       "      <th>25%</th>\n",
       "      <td>1.000000</td>\n",
       "      <td>16.722500</td>\n",
       "    </tr>\n",
       "    <tr>\n",
       "      <th>50%</th>\n",
       "      <td>1.000000</td>\n",
       "      <td>18.000000</td>\n",
       "    </tr>\n",
       "    <tr>\n",
       "      <th>75%</th>\n",
       "      <td>2.000000</td>\n",
       "      <td>161.900000</td>\n",
       "    </tr>\n",
       "    <tr>\n",
       "      <th>max</th>\n",
       "      <td>1600.000000</td>\n",
       "      <td>38970.000000</td>\n",
       "    </tr>\n",
       "  </tbody>\n",
       "</table>\n",
       "</div>"
      ],
      "text/plain": [
       "          Quantity     UnitPrice\n",
       "count  2796.000000   2796.000000\n",
       "mean      3.581545    260.852240\n",
       "std      67.374006   1321.062127\n",
       "min   -1350.000000 -11062.060000\n",
       "25%       1.000000     16.722500\n",
       "50%       1.000000     18.000000\n",
       "75%       2.000000    161.900000\n",
       "max    1600.000000  38970.000000"
      ]
     },
     "execution_count": 48,
     "metadata": {},
     "output_type": "execute_result"
    }
   ],
   "source": [
    "# looking below without examning further will feel like we have to include those entries\n",
    "# while doing revenue and other analysis but later looking at those extreme values these\n",
    "# are small in number and internal business stuff won't really matter for trends and stuff\n",
    "\n",
    "alphacode[[\"Quantity\", \"UnitPrice\"]].describe()"
   ]
  },
  {
   "cell_type": "code",
   "execution_count": 50,
   "id": "eca352fa-7199-4750-8155-153ea8435e12",
   "metadata": {},
   "outputs": [
    {
     "data": {
      "text/plain": [
       "array(['POSTAGE', 'Discount', 'DOTCOM POSTAGE', 'Manual', 'Bank Charges',\n",
       "       'SAMPLES', 'AMAZON FEE', nan, 'BOYS PARTY BAG', 'GIRLS PARTY BAG',\n",
       "       'PADS TO MATCH ALL CUSHIONS', 'Adjust bad debt', 'CRUK Commission'],\n",
       "      dtype=object)"
      ]
     },
     "execution_count": 50,
     "metadata": {},
     "output_type": "execute_result"
    }
   ],
   "source": [
    "# Later on i looked at each and saw that they really don't matter in my analysis\n",
    "# yeah 'BOYS PARTY BAG' and it's equivalent will feel like they are real products\n",
    "# being sold but since they are low in number and it is negligible compared to rest of\n",
    "# the products\n",
    "\n",
    "alphacode[\"Description\"].unique()"
   ]
  },
  {
   "cell_type": "markdown",
   "id": "b48269f7-33e0-42c0-ad22-cf75f4d641f3",
   "metadata": {},
   "source": [
    "#### StockCode as representation of product"
   ]
  },
  {
   "cell_type": "markdown",
   "id": "80f7e2c6-d5fc-42cf-8b96-2b40034128c8",
   "metadata": {},
   "source": [
    "First look at description having many stockcodes"
   ]
  },
  {
   "cell_type": "code",
   "execution_count": 80,
   "id": "e072163e-f485-48b7-8fc3-d8e7eaddf3bb",
   "metadata": {},
   "outputs": [
    {
     "data": {
      "text/plain": [
       "array([1, 2, 6])"
      ]
     },
     "execution_count": 80,
     "metadata": {},
     "output_type": "execute_result"
    }
   ],
   "source": [
    "# what about description having many stockcode\n",
    "\n",
    "# removing unitprice == 0 because these are according to me inventory management\n",
    "# and looking at those descriptions they include such as \"damage\", \"clean\"\n",
    "# so it makes sense these corresponds to many stockcodes\n",
    "\n",
    "stockcodes = df[df[\"UnitPrice\"] != 0].groupby(\"Description\").agg(\n",
    "    List=(\"StockCode\", lambda x: list(set(x))),\n",
    "    TotalNo=(\"StockCode\", lambda x: len(list(set(x))))\n",
    ").reset_index()\n",
    "unique_nums = np.sort(stockcodes[\"TotalNo\"].unique())\n",
    "unique_nums"
   ]
  },
  {
   "cell_type": "code",
   "execution_count": 84,
   "id": "5425c2aa-5ace-4f80-94b7-a4bfb1158abc",
   "metadata": {},
   "outputs": [
    {
     "data": {
      "text/html": [
       "<div>\n",
       "<style scoped>\n",
       "    .dataframe tbody tr th:only-of-type {\n",
       "        vertical-align: middle;\n",
       "    }\n",
       "\n",
       "    .dataframe tbody tr th {\n",
       "        vertical-align: top;\n",
       "    }\n",
       "\n",
       "    .dataframe thead th {\n",
       "        text-align: right;\n",
       "    }\n",
       "</style>\n",
       "<table border=\"1\" class=\"dataframe\">\n",
       "  <thead>\n",
       "    <tr style=\"text-align: right;\">\n",
       "      <th></th>\n",
       "      <th>Description</th>\n",
       "      <th>List</th>\n",
       "      <th>TotalNo</th>\n",
       "    </tr>\n",
       "  </thead>\n",
       "  <tbody>\n",
       "    <tr>\n",
       "      <th>46</th>\n",
       "      <td>3 GARDENIA MORRIS BOXED CANDLES</td>\n",
       "      <td>[85034a, 85034A]</td>\n",
       "      <td>2</td>\n",
       "    </tr>\n",
       "    <tr>\n",
       "      <th>61</th>\n",
       "      <td>3 WHITE CHOC MORRIS BOXED CANDLES</td>\n",
       "      <td>[85034B, 85034b]</td>\n",
       "      <td>2</td>\n",
       "    </tr>\n",
       "    <tr>\n",
       "      <th>72</th>\n",
       "      <td>3D DOG PICTURE PLAYING CARDS</td>\n",
       "      <td>[84558A, 84558a]</td>\n",
       "      <td>2</td>\n",
       "    </tr>\n",
       "    <tr>\n",
       "      <th>74</th>\n",
       "      <td>3D SHEET OF CAT STICKERS</td>\n",
       "      <td>[84559B, 84559b]</td>\n",
       "      <td>2</td>\n",
       "    </tr>\n",
       "    <tr>\n",
       "      <th>75</th>\n",
       "      <td>3D SHEET OF DOG STICKERS</td>\n",
       "      <td>[84559a, 84559A]</td>\n",
       "      <td>2</td>\n",
       "    </tr>\n",
       "  </tbody>\n",
       "</table>\n",
       "</div>"
      ],
      "text/plain": [
       "                          Description              List  TotalNo\n",
       "46    3 GARDENIA MORRIS BOXED CANDLES  [85034a, 85034A]        2\n",
       "61  3 WHITE CHOC MORRIS BOXED CANDLES  [85034B, 85034b]        2\n",
       "72       3D DOG PICTURE PLAYING CARDS  [84558A, 84558a]        2\n",
       "74           3D SHEET OF CAT STICKERS  [84559B, 84559b]        2\n",
       "75           3D SHEET OF DOG STICKERS  [84559a, 84559A]        2"
      ]
     },
     "execution_count": 84,
     "metadata": {},
     "output_type": "execute_result"
    }
   ],
   "source": [
    "# eyeballing these entries feel like they are same but just one is capital and other is lower\n",
    "\n",
    "double_sc = stockcodes[stockcodes[\"TotalNo\"] == 2]\n",
    "double_sc.head()"
   ]
  },
  {
   "cell_type": "code",
   "execution_count": 94,
   "id": "9e4e3952-5a8d-4639-a34a-5369f126486c",
   "metadata": {},
   "outputs": [
    {
     "data": {
      "text/plain": [
       "array([ True, False])"
      ]
     },
     "execution_count": 94,
     "metadata": {},
     "output_type": "execute_result"
    }
   ],
   "source": [
    "# let's confirm this hypothesis for all entries\n",
    "\n",
    "check = double_sc[\"List\"].apply(lambda x: str(x[0]).upper() == str(x[1]).upper())\n",
    "check.unique()"
   ]
  },
  {
   "cell_type": "code",
   "execution_count": 98,
   "id": "4cf88348-2916-4665-83fb-ecee30557072",
   "metadata": {},
   "outputs": [
    {
     "data": {
      "text/html": [
       "<div>\n",
       "<style scoped>\n",
       "    .dataframe tbody tr th:only-of-type {\n",
       "        vertical-align: middle;\n",
       "    }\n",
       "\n",
       "    .dataframe tbody tr th {\n",
       "        vertical-align: top;\n",
       "    }\n",
       "\n",
       "    .dataframe thead th {\n",
       "        text-align: right;\n",
       "    }\n",
       "</style>\n",
       "<table border=\"1\" class=\"dataframe\">\n",
       "  <thead>\n",
       "    <tr style=\"text-align: right;\">\n",
       "      <th></th>\n",
       "      <th>Description</th>\n",
       "      <th>List</th>\n",
       "      <th>TotalNo</th>\n",
       "    </tr>\n",
       "  </thead>\n",
       "  <tbody>\n",
       "    <tr>\n",
       "      <th>856</th>\n",
       "      <td>COLOURING PENCILS BROWN TUBE</td>\n",
       "      <td>[10133, 10135]</td>\n",
       "      <td>2</td>\n",
       "    </tr>\n",
       "    <tr>\n",
       "      <th>858</th>\n",
       "      <td>COLUMBIAN CANDLE RECTANGLE</td>\n",
       "      <td>[72131, 72133]</td>\n",
       "      <td>2</td>\n",
       "    </tr>\n",
       "    <tr>\n",
       "      <th>859</th>\n",
       "      <td>COLUMBIAN CANDLE ROUND</td>\n",
       "      <td>[72128, 72130]</td>\n",
       "      <td>2</td>\n",
       "    </tr>\n",
       "    <tr>\n",
       "      <th>1124</th>\n",
       "      <td>EAU DE NILE JEWELLED PHOTOFRAME</td>\n",
       "      <td>[85024B, 85023B]</td>\n",
       "      <td>2</td>\n",
       "    </tr>\n",
       "    <tr>\n",
       "      <th>1371</th>\n",
       "      <td>FRENCH FLORAL CUSHION COVER</td>\n",
       "      <td>[20840, 20837]</td>\n",
       "      <td>2</td>\n",
       "    </tr>\n",
       "  </tbody>\n",
       "</table>\n",
       "</div>"
      ],
      "text/plain": [
       "                          Description              List  TotalNo\n",
       "856      COLOURING PENCILS BROWN TUBE    [10133, 10135]        2\n",
       "858        COLUMBIAN CANDLE RECTANGLE    [72131, 72133]        2\n",
       "859            COLUMBIAN CANDLE ROUND    [72128, 72130]        2\n",
       "1124  EAU DE NILE JEWELLED PHOTOFRAME  [85024B, 85023B]        2\n",
       "1371     FRENCH FLORAL CUSHION COVER     [20840, 20837]        2"
      ]
     },
     "execution_count": 98,
     "metadata": {},
     "output_type": "execute_result"
    }
   ],
   "source": [
    "# so i have to replace the second on with first one in original dataset\n",
    "# and lastly i have to make each stockcode as string and use upper method\n",
    "\n",
    "double_sc[check == False].head()"
   ]
  },
  {
   "cell_type": "code",
   "execution_count": 129,
   "id": "ab4920af-6fce-4b1f-b32c-f0cd5eacd027",
   "metadata": {},
   "outputs": [
    {
     "data": {
      "text/html": [
       "<div>\n",
       "<style scoped>\n",
       "    .dataframe tbody tr th:only-of-type {\n",
       "        vertical-align: middle;\n",
       "    }\n",
       "\n",
       "    .dataframe tbody tr th {\n",
       "        vertical-align: top;\n",
       "    }\n",
       "\n",
       "    .dataframe thead th {\n",
       "        text-align: right;\n",
       "    }\n",
       "</style>\n",
       "<table border=\"1\" class=\"dataframe\">\n",
       "  <thead>\n",
       "    <tr style=\"text-align: right;\">\n",
       "      <th></th>\n",
       "      <th>Description</th>\n",
       "      <th>List</th>\n",
       "      <th>TotalNo</th>\n",
       "    </tr>\n",
       "  </thead>\n",
       "  <tbody>\n",
       "    <tr>\n",
       "      <th>2083</th>\n",
       "      <td>METAL SIGN,CUPCAKE SINGLE HOOK</td>\n",
       "      <td>[82613B, 82613A, 82613b, 82613C, 82613c, 82613a]</td>\n",
       "      <td>6</td>\n",
       "    </tr>\n",
       "  </tbody>\n",
       "</table>\n",
       "</div>"
      ],
      "text/plain": [
       "                         Description  \\\n",
       "2083  METAL SIGN,CUPCAKE SINGLE HOOK   \n",
       "\n",
       "                                                  List  TotalNo  \n",
       "2083  [82613B, 82613A, 82613b, 82613C, 82613c, 82613a]        6  "
      ]
     },
     "execution_count": 129,
     "metadata": {},
     "output_type": "execute_result"
    }
   ],
   "source": [
    "# similarly adding this to previous stockcode dict\n",
    "\n",
    "stockcodes[stockcodes[\"TotalNo\"] == 6]"
   ]
  },
  {
   "cell_type": "code",
   "execution_count": 134,
   "id": "b5399f54-ead0-4405-8e6f-507beb5b255c",
   "metadata": {},
   "outputs": [],
   "source": [
    "stockcode_dict = {row[\"Description\"]: row[\"List\"][0] for _, row in double_sc[check == False].iterrows()}\n",
    "stockcode_dict[stockcodes[stockcodes[\"TotalNo\"] == 6][\"Description\"].item()] = stockcodes[stockcodes[\"TotalNo\"] == 6][\"List\"].item()[0]\n",
    "\n",
    "def change_sc(row):\n",
    "    if row[\"Description\"] in stockcode_dict:\n",
    "        return stockcode_dict[row[\"Description\"]]\n",
    "    return row[\"StockCode\"]\n",
    "\n",
    "\n",
    "final_df = df.copy()\n",
    "final_df[\"StockCode\"] = final_df.apply(change_sc, axis=1)\n",
    "final_df[\"StockCode\"] = final_df[\"StockCode\"].astype(str).str.upper()"
   ]
  },
  {
   "cell_type": "markdown",
   "id": "ba3ad7a3-9dc2-4bb4-9bde-caaa430ce4ef",
   "metadata": {},
   "source": [
    "Now looking at stockcode having many descriptions"
   ]
  },
  {
   "cell_type": "code",
   "execution_count": 139,
   "id": "05238bd2-6d00-48d7-9c9c-eed02a4cb54f",
   "metadata": {},
   "outputs": [
    {
     "data": {
      "text/plain": [
       "array([1, 2, 3, 4])"
      ]
     },
     "execution_count": 139,
     "metadata": {},
     "output_type": "execute_result"
    }
   ],
   "source": [
    "descriptions = final_df[final_df[\"UnitPrice\"] != 0].groupby(\"StockCode\").agg(\n",
    "    List=(\"Description\", lambda x: list(set(x))),  # or \"unique\"\n",
    "    TotalNo=(\"Description\", lambda x: len(list(set(x))))  # or \"nunique\"\n",
    ").reset_index()\n",
    "\n",
    "descriptions[\"TotalNo\"].unique()"
   ]
  },
  {
   "cell_type": "code",
   "execution_count": 146,
   "id": "a4d4ea22-9154-4ec1-82bf-7d701c2424b3",
   "metadata": {},
   "outputs": [],
   "source": [
    "# let's look at each records manually\n",
    "# and yes all the descriptions point to same product\n",
    "# thus finally we can use stockcode as representation of product\n",
    "\n",
    "# for _, row in descriptions[descriptions[\"TotalNo\"] > 1].iterrows():\n",
    "#     print(row[\"List\"])"
   ]
  },
  {
   "cell_type": "markdown",
   "id": "081b98fa-b10c-4083-81a6-b6ca5a874623",
   "metadata": {},
   "source": [
    "#### Return vs Cancel orders"
   ]
  },
  {
   "cell_type": "code",
   "execution_count": 155,
   "id": "5171f5b4-6bda-400b-88f2-fc9a91d65b28",
   "metadata": {},
   "outputs": [
    {
     "data": {
      "text/html": [
       "<div>\n",
       "<style scoped>\n",
       "    .dataframe tbody tr th:only-of-type {\n",
       "        vertical-align: middle;\n",
       "    }\n",
       "\n",
       "    .dataframe tbody tr th {\n",
       "        vertical-align: top;\n",
       "    }\n",
       "\n",
       "    .dataframe thead th {\n",
       "        text-align: right;\n",
       "    }\n",
       "</style>\n",
       "<table border=\"1\" class=\"dataframe\">\n",
       "  <thead>\n",
       "    <tr style=\"text-align: right;\">\n",
       "      <th></th>\n",
       "      <th>InvoiceNo</th>\n",
       "      <th>StockCode</th>\n",
       "      <th>Description</th>\n",
       "      <th>Quantity</th>\n",
       "      <th>InvoiceDate</th>\n",
       "      <th>UnitPrice</th>\n",
       "      <th>CustomerID</th>\n",
       "      <th>Country</th>\n",
       "    </tr>\n",
       "  </thead>\n",
       "  <tbody>\n",
       "    <tr>\n",
       "      <th>194354</th>\n",
       "      <td>553573</td>\n",
       "      <td>22980</td>\n",
       "      <td>PANTRY SCRUBBING BRUSH</td>\n",
       "      <td>1</td>\n",
       "      <td>2011-05-18 09:52:00</td>\n",
       "      <td>1.65</td>\n",
       "      <td>16446.0</td>\n",
       "      <td>United Kingdom</td>\n",
       "    </tr>\n",
       "    <tr>\n",
       "      <th>194355</th>\n",
       "      <td>553573</td>\n",
       "      <td>22982</td>\n",
       "      <td>PANTRY PASTRY BRUSH</td>\n",
       "      <td>1</td>\n",
       "      <td>2011-05-18 09:52:00</td>\n",
       "      <td>1.25</td>\n",
       "      <td>16446.0</td>\n",
       "      <td>United Kingdom</td>\n",
       "    </tr>\n",
       "    <tr>\n",
       "      <th>540421</th>\n",
       "      <td>581483</td>\n",
       "      <td>23843</td>\n",
       "      <td>PAPER CRAFT , LITTLE BIRDIE</td>\n",
       "      <td>80995</td>\n",
       "      <td>2011-12-09 09:15:00</td>\n",
       "      <td>2.08</td>\n",
       "      <td>16446.0</td>\n",
       "      <td>United Kingdom</td>\n",
       "    </tr>\n",
       "    <tr>\n",
       "      <th>540422</th>\n",
       "      <td>C581484</td>\n",
       "      <td>23843</td>\n",
       "      <td>PAPER CRAFT , LITTLE BIRDIE</td>\n",
       "      <td>-80995</td>\n",
       "      <td>2011-12-09 09:27:00</td>\n",
       "      <td>2.08</td>\n",
       "      <td>16446.0</td>\n",
       "      <td>United Kingdom</td>\n",
       "    </tr>\n",
       "  </tbody>\n",
       "</table>\n",
       "</div>"
      ],
      "text/plain": [
       "       InvoiceNo StockCode                  Description  Quantity  \\\n",
       "194354    553573     22980       PANTRY SCRUBBING BRUSH         1   \n",
       "194355    553573     22982          PANTRY PASTRY BRUSH         1   \n",
       "540421    581483     23843  PAPER CRAFT , LITTLE BIRDIE     80995   \n",
       "540422   C581484     23843  PAPER CRAFT , LITTLE BIRDIE    -80995   \n",
       "\n",
       "               InvoiceDate  UnitPrice  CustomerID         Country  \n",
       "194354 2011-05-18 09:52:00       1.65     16446.0  United Kingdom  \n",
       "194355 2011-05-18 09:52:00       1.25     16446.0  United Kingdom  \n",
       "540421 2011-12-09 09:15:00       2.08     16446.0  United Kingdom  \n",
       "540422 2011-12-09 09:27:00       2.08     16446.0  United Kingdom  "
      ]
     },
     "execution_count": 155,
     "metadata": {},
     "output_type": "execute_result"
    }
   ],
   "source": [
    "# future roop here, so as i was studying credit note transactions. There i saw these two\n",
    "# transactions at last. Here the customer has placed a very very big order and then cancelled\n",
    "# within few minutes. These types really distort the results. There are many such like on in\n",
    "# January. So later while analyzing and finding trends, also take credit note transactions\n",
    "# into account so that they will cancel out each other and will show correct revenue.\n",
    "# Yeah i can remove those transactions but i am not confident where should i place\n",
    "# threshold. Such that above threshold are returns and below are cancelled\n",
    "\n",
    "final_df[final_df[\"CustomerID\"] == 16446]"
   ]
  },
  {
   "cell_type": "markdown",
   "id": "8e0b6408-5e0e-4688-ab66-bf193acc6a61",
   "metadata": {},
   "source": [
    "#### Time Period of Data"
   ]
  },
  {
   "cell_type": "code",
   "execution_count": 153,
   "id": "663ca14e-59f0-4949-b44d-b8d86db10756",
   "metadata": {},
   "outputs": [
    {
     "name": "stdout",
     "output_type": "stream",
     "text": [
      "0   2010-12-01 08:26:00\n",
      "1   2010-12-01 08:26:00\n",
      "2   2010-12-01 08:26:00\n",
      "3   2010-12-01 08:26:00\n",
      "4   2010-12-01 08:26:00\n",
      "Name: InvoiceDate, dtype: datetime64[ns]\n",
      "\n",
      "\n",
      "Starting date:  2010-12-01 08:26:00\n",
      "Is Monotonic Increasing:  True\n",
      "Ending date:  2011-12-09 12:50:00\n"
     ]
    }
   ],
   "source": [
    "# lastly let's understand the time period when the data is collected\n",
    "# from looks of it, we have one year worth of data\n",
    "\n",
    "dates = final_df[\"InvoiceDate\"]\n",
    "print(dates.head())\n",
    "print(\"\\n\")\n",
    "\n",
    "# checking if date is sorted or not\n",
    "print(\"Starting date: \", dates.iloc[0])\n",
    "print(\"Is Monotonic Increasing: \", dates.is_monotonic_increasing)\n",
    "print(\"Ending date: \", dates.iloc[-1])"
   ]
  },
  {
   "cell_type": "markdown",
   "id": "f2c9877f-9280-4556-bb0e-bed614e9bf16",
   "metadata": {},
   "source": [
    "## Analysis"
   ]
  },
  {
   "cell_type": "code",
   "execution_count": 158,
   "id": "8b93a871-dd5c-4722-9179-f5f8e2ed2b94",
   "metadata": {},
   "outputs": [],
   "source": [
    "from statsmodels.tsa.seasonal import STL"
   ]
  },
  {
   "cell_type": "code",
   "execution_count": 161,
   "id": "7d125964-d838-4aa2-8f90-c3a22f2481e1",
   "metadata": {},
   "outputs": [],
   "source": [
    "real_stuff = final_df[final_df[\"UnitPrice\"] > 0]\n",
    "real_stuff = real_stuff[real_stuff[\"StockCode\"].str.contains(r'\\d', na=False)]\n",
    "real_stuff[\"TotalPrice\"] = real_stuff[\"Quantity\"] * real_stuff[\"UnitPrice\"]"
   ]
  },
  {
   "cell_type": "code",
   "execution_count": 177,
   "id": "2178d65d-def8-4ca0-bfc2-b2fb78d1d7c4",
   "metadata": {},
   "outputs": [],
   "source": [
    "dailyrev = real_stuff.groupby(real_stuff[\"InvoiceDate\"].dt.date)[\"TotalPrice\"].sum()"
   ]
  },
  {
   "cell_type": "code",
   "execution_count": 183,
   "id": "5626fc33-09a2-4f14-bdd8-057f07c69b96",
   "metadata": {},
   "outputs": [],
   "source": [
    "dailyrev = dailyrev.asfreq('D', method='ffill')"
   ]
  },
  {
   "cell_type": "code",
   "execution_count": 193,
   "id": "6b65e5ea-1f9a-4296-b94f-c316813cc751",
   "metadata": {},
   "outputs": [
    {
     "data": {
      "image/png": "[encoded data removed]",
      "text/plain": [
       "<Figure size 1200x600 with 1 Axes>"
      ]
     },
     "metadata": {},
     "output_type": "display_data"
    }
   ],
   "source": [
    "plt.figure(figsize=(12,6))\n",
    "plt.plot(dailyrev.index, dailyrev)\n",
    "revenue_smooth = dailyrev.rolling(window=15).mean()\n",
    "plt.plot(revenue_smooth.index, revenue_smooth, color='red', label='7-Day Moving Avg')  # Smoothed\n",
    "\n",
    "for month in real_stuff[\"InvoiceDate\"].dt.to_period(\"M\").unique():\n",
    "    plt.axvline(month, color='k', linestyle='--', alpha=0.5)"
   ]
  },
  {
   "cell_type": "code",
   "execution_count": 186,
   "id": "264d20b5-5e86-4d90-a2c9-6e4820821eed",
   "metadata": {},
   "outputs": [
    {
     "data": {
      "image/png": "[encoded data removed]",
      "text/plain": [
       "<Figure size 800x600 with 4 Axes>"
      ]
     },
     "metadata": {},
     "output_type": "display_data"
    }
   ],
   "source": [
    "stl = STL(dailyrev)\n",
    "result = stl.fit()\n",
    "\n",
    "seasonal, trend, resid = result.seasonal, result.trend, result.resid\n",
    "plt.figure(figsize=(8,6))\n",
    "\n",
    "plt.subplot(4,1,1)\n",
    "plt.plot(stuff)\n",
    "plt.title('Original Series', fontsize=16)\n",
    "\n",
    "plt.subplot(4,1,2)\n",
    "plt.plot(trend)\n",
    "plt.title('Trend', fontsize=16)\n",
    "\n",
    "plt.subplot(4,1,3)\n",
    "plt.plot(seasonal)\n",
    "plt.title('Seasonal', fontsize=16)\n",
    "\n",
    "plt.subplot(4,1,4)\n",
    "plt.plot(resid)\n",
    "plt.title('Residual', fontsize=16)\n",
    "\n",
    "plt.tight_layout()"
   ]
  },
  {
   "cell_type": "code",
   "execution_count": 189,
   "id": "a852ca1f-67a4-446d-8401-08b6951f815f",
   "metadata": {},
   "outputs": [
    {
     "data": {
      "image/png": "[encoded data removed]",
      "text/plain": [
       "<Figure size 640x480 with 1 Axes>"
      ]
     },
     "metadata": {},
     "output_type": "display_data"
    }
   ],
   "source": [
    "from statsmodels.graphics.tsaplots import plot_acf\n",
    "\n",
    "# Plot ACF to identify seasonal period\n",
    "plot_acf(dailyrev, lags=14)  # Check for peaks at lags 7, 14, 21, etc. (weekly seasonality)\n",
    "plt.show()"
   ]
  }
 ],
 "metadata": {
  "kernelspec": {
   "display_name": "Python (myenv)",
   "language": "python",
   "name": "venv"
  },
  "language_info": {
   "codemirror_mode": {
    "name": "ipython",
    "version": 3
   },
   "file_extension": ".py",
   "mimetype": "text/x-python",
   "name": "python",
   "nbconvert_exporter": "python",
   "pygments_lexer": "ipython3",
   "version": "3.10.12"
  }
 },
 "nbformat": 4,
 "nbformat_minor": 5
}
